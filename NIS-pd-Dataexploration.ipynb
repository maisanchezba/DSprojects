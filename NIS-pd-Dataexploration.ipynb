{
  "cells": [
    {
      "cell_type": "markdown",
      "metadata": {
        "deletable": false,
        "editable": false,
        "etc_identifier": "373a3605-5bda-4e1f-beef-04a0173d3f41",
        "nbgrader": {
          "cell_type": "markdown",
          "checksum": "ea942292eff37b50f364f842bcdd8ad9",
          "grade": false,
          "grade_id": "cell-a839e7b47494b4c3",
          "locked": true,
          "schema_version": 3,
          "solution": false
        },
        "id": "mvj2AoBeMmi5"
      },
      "source": [
        "# Dataset\n",
        "\n",
        "2017 data on immunizations(assets/NISPUF17.csv). A data users guide for this(assets/NIS-PUF17-DUG.pdf)."
      ]
    },
    {
      "cell_type": "markdown",
      "metadata": {
        "deletable": false,
        "editable": false,
        "nbgrader": {
          "cell_type": "markdown",
          "checksum": "e10e2163f5957a0c398ef4f0b76b4efe",
          "grade": false,
          "grade_id": "cell-f63377f3c97aa7c4",
          "locked": true,
          "schema_version": 3,
          "solution": false
        },
        "id": "WHYHW_3kMmi-"
      },
      "source": [
        "## Sex\n",
        "Ratio of the number of children who contracted chickenpox but were vaccinated against it (at least one varicella dose) versus those who were vaccinated but did not contract chicken pox by sex.\n",
        "\n"
      ]
    },
    {
      "cell_type": "code",
      "execution_count": null,
      "metadata": {
        "deletable": false,
        "nbgrader": {
          "cell_type": "code",
          "checksum": "b4d1b58acae002bc73eb0b19f95bc4af",
          "grade": false,
          "grade_id": "cell-a0a9e6fe67698006",
          "locked": false,
          "schema_version": 3,
          "solution": true
        },
        "id": "d5cQpfWxMmi-",
        "outputId": "f88f58e9-745f-4fa7-92e6-48385e7675e7"
      },
      "outputs": [
        {
          "data": {
            "text/plain": [
              "{'male': 0.009675583380762664, 'female': 0.0077918259335489565}"
            ]
          },
          "execution_count": 33,
          "metadata": {},
          "output_type": "execute_result"
        }
      ],
      "source": [
        "def chickenpox_by_sex():\n",
        "    # YOUR CODE HERE\n",
        "    df=pd.read_csv(\"assets/NISPUF17.csv\")\n",
        "    df=df[[\"SEX\",\"P_NUMVRC\", \"HAD_CPOX\"]]\n",
        "    dfm=df[df[\"SEX\"]==1]\n",
        "    dff=df[df[\"SEX\"]==2]\n",
        "    r_male=len(dfm[(dfm[\"P_NUMVRC\"]>0) & (dfm[\"HAD_CPOX\"]==1)])/len(dfm[(dfm[\"P_NUMVRC\"]>0) & (dfm[\"HAD_CPOX\"]==2)])\n",
        "    r_female=len(dff[(dff[\"P_NUMVRC\"]>0) & (dff[\"HAD_CPOX\"]==1)])/len(dff[(dff[\"P_NUMVRC\"]>0) & (dff[\"HAD_CPOX\"]==2)])\n",
        "    answer={\"male\":r_male,\n",
        "            \"female\":r_female}\n",
        "    return answer"
      ]
    },
    {
      "cell_type": "markdown",
      "metadata": {
        "id": "Zwk2VcyFMmi_"
      },
      "source": [
        "## Correlation\n",
        "\n",
        "The `had_chickenpox_column` is either `1` (for yes) or `2` (for no), and the `num_chickenpox_vaccine_column` is the number of doses a child has been given of the varicella vaccine."
      ]
    },
    {
      "cell_type": "code",
      "execution_count": 3,
      "metadata": {
        "deletable": false,
        "nbgrader": {
          "cell_type": "code",
          "checksum": "3e645859949447913cd11d30eb33cb1e",
          "grade": false,
          "grade_id": "cell-8afff07f564cf79a",
          "locked": false,
          "schema_version": 3,
          "solution": true
        },
        "colab": {
          "base_uri": "https://localhost:8080/"
        },
        "id": "00rEXZWpMmi_",
        "outputId": "113dffdb-125b-4e75-8d5c-39c8779c88d5"
      },
      "outputs": [
        {
          "output_type": "execute_result",
          "data": {
            "text/plain": [
              "(0.07044873460148046, 2.778026318343432e-18)"
            ]
          },
          "metadata": {},
          "execution_count": 3
        }
      ],
      "source": [
        "def corr_chickenpox():\n",
        "    import scipy.stats as stats\n",
        "    import numpy as np\n",
        "    import pandas as pd\n",
        "\n",
        "    # this is just an example dataframe\n",
        "    df=pd.read_csv(\"assets/NISPUF17.csv\")\n",
        "    df=df[[\"P_NUMVRC\", \"HAD_CPOX\"]]\n",
        "    df.dropna(axis=0, inplace=True)\n",
        "    df=df[df[\"HAD_CPOX\"]<3]\n",
        "    #df=pd.DataFrame({\"had_chickenpox_column\":df[],\n",
        "    #               \"num_chickenpox_vaccine_column\":np.random.randint(0,6,size=(100))})\n",
        "\n",
        "    # here is some stub code to actually run the correlation\n",
        "    corr, pval=stats.pearsonr(df[\"P_NUMVRC\"],df[\"HAD_CPOX\"])\n",
        "\n",
        "    # just return the correlation\n",
        "    return (corr, pval)\n",
        "\n",
        "    # YOUR CODE HERE\n",
        "corr_chickenpox()"
      ]
    },
    {
      "cell_type": "markdown",
      "source": [
        "A positive correlation means that an increase in `had_chickenpox_column` (which means more no’s) would also increase the values of `num_chickenpox_vaccine_column`A small `pval` means that the observed correlation is highly unlikely to occur by chance. In this case, `pval` should be very small"
      ],
      "metadata": {
        "id": "Kkl-MEHIRBGq"
      }
    }
  ],
  "metadata": {
    "anaconda-cloud": {},
    "etc_active_cell": 0,
    "hide_code_all_hidden": false,
    "kernelspec": {
      "display_name": "Python 3 (ipykernel)",
      "language": "python",
      "name": "python3"
    },
    "language_info": {
      "codemirror_mode": {
        "name": "ipython",
        "version": 3
      },
      "file_extension": ".py",
      "mimetype": "text/x-python",
      "name": "python",
      "nbconvert_exporter": "python",
      "pygments_lexer": "ipython3",
      "version": "3.9.13"
    },
    "colab": {
      "provenance": []
    }
  },
  "nbformat": 4,
  "nbformat_minor": 0
}