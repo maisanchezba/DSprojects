{
 "cells": [
  {
   "cell_type": "code",
   "execution_count": 1,
   "metadata": {
    "deletable": false,
    "editable": false,
    "nbgrader": {
     "cell_type": "code",
     "checksum": "78ebaa94d2ed34f270a36f999ec638cd",
     "grade": false,
     "grade_id": "cell-80e9d85c13c645fd",
     "locked": true,
     "schema_version": 3,
     "solution": false,
     "task": false
    }
   },
   "outputs": [],
   "source": [
    "import numpy as np\n",
    "import pandas as pd"
   ]
  },
  {
   "cell_type": "code",
   "execution_count": null,
   "metadata": {
    "deletable": false,
    "nbgrader": {
     "cell_type": "code",
     "checksum": "92fc1620092b7a44f520d3bb2f2a81bf",
     "grade": false,
     "grade_id": "cell-9c71acc0882f1c07",
     "locked": false,
     "schema_version": 3,
     "solution": true,
     "task": false
    }
   },
   "outputs": [
    {
     "data": {
      "text/plain": [
       "0.016410823768035772"
      ]
     },
     "execution_count": 5,
     "metadata": {},
     "output_type": "execute_result"
    }
   ],
   "source": [
    "def fraud_ratio():\n",
    "    df = pd.read_csv('assets/fraud_data.csv')\n",
    "    y = df.iloc[:,-1].value_counts()\n",
    "    return y[1]/(y[1]+y[0])\n",
    "fraud_ratio()"
   ]
  },
  {
   "cell_type": "code",
   "execution_count": 2,
   "metadata": {
    "deletable": false,
    "editable": false,
    "nbgrader": {
     "cell_type": "code",
     "checksum": "0ba0341d27562125bb56f3ec5277a02d",
     "grade": false,
     "grade_id": "cell-62cf0dc0b1f98f9e",
     "locked": true,
     "schema_version": 3,
     "solution": false,
     "task": false
    }
   },
   "outputs": [],
   "source": [
    "# Use X_train, X_test, y_train, y_test for all of the following questions\n",
    "from sklearn.model_selection import train_test_split\n",
    "\n",
    "df = pd.read_csv('assets/fraud_data.csv')\n",
    "\n",
    "X = df.iloc[:,:-1]\n",
    "y = df.iloc[:,-1]\n",
    "\n",
    "X_train, X_test, y_train, y_test = train_test_split(X, y, random_state=0)"
   ]
  },
  {
   "cell_type": "markdown",
   "metadata": {
    "deletable": false,
    "editable": false,
    "nbgrader": {
     "cell_type": "markdown",
     "checksum": "2b34a3918d9036b813e0b0b5bf714d7f",
     "grade": false,
     "grade_id": "cell-3712ad9c5674649b",
     "locked": true,
     "schema_version": 3,
     "solution": false,
     "task": false
    }
   },
   "source": [
    "### SVC\n",
    "This function should a return a tuple with three floats, i.e. `(accuracy score, recall score, precision score)`.*"
   ]
  },
  {
   "cell_type": "code",
   "execution_count": null,
   "metadata": {
    "deletable": false,
    "nbgrader": {
     "cell_type": "code",
     "checksum": "623aab4a8492d59dbfa4fd3a1d21d660",
     "grade": false,
     "grade_id": "cell-c406ff1cd0d9b9cf",
     "locked": false,
     "schema_version": 3,
     "solution": true,
     "task": false
    }
   },
   "outputs": [
    {
     "data": {
      "text/plain": [
       "(0.9900442477876106, 0.35, 0.9333333333333333)"
      ]
     },
     "execution_count": 10,
     "metadata": {},
     "output_type": "execute_result"
    }
   ],
   "source": [
    "def SVC_model():\n",
    "    from sklearn.metrics import recall_score, precision_score\n",
    "    from sklearn.svm import SVC\n",
    "    \n",
    "    model=SVC()\n",
    "    model.fit(X_train, y_train)\n",
    "    y_p=model.predict(X_test)\n",
    "    rec=recall_score(y_test, y_p)\n",
    "    pre=precision_score(y_test, y_p)\n",
    "    acc=model.score(X_test, y_test)\n",
    "    \n",
    "    return (acc, rec, pre)\n",
    "SVC_model()"
   ]
  },
  {
   "cell_type": "markdown",
   "metadata": {
    "deletable": false,
    "editable": false,
    "nbgrader": {
     "cell_type": "markdown",
     "checksum": "f192747899a034d58dabbce7ee21892f",
     "grade": false,
     "grade_id": "cell-a90b8ca88528b575",
     "locked": true,
     "schema_version": 3,
     "solution": false,
     "task": false
    }
   },
   "source": [
    "### Tuning and confussion matrix\n",
    "\n",
    "This function should return a confusion matrix, a 2x2 numpy array with 4 integers."
   ]
  },
  {
   "cell_type": "code",
   "execution_count": null,
   "metadata": {
    "deletable": false,
    "nbgrader": {
     "cell_type": "code",
     "checksum": "61a4ced01e471811f43ba8d9bf26a574",
     "grade": false,
     "grade_id": "cell-702dc0a87f16c21c",
     "locked": false,
     "schema_version": 3,
     "solution": true,
     "task": false
    }
   },
   "outputs": [
    {
     "data": {
      "text/plain": [
       "array([[5320,   24],\n",
       "       [  14,   66]])"
      ]
     },
     "execution_count": 18,
     "metadata": {},
     "output_type": "execute_result"
    }
   ],
   "source": [
    "def confussion_matrix():\n",
    "    from sklearn.metrics import confusion_matrix\n",
    "    from sklearn.svm import SVC\n",
    "    \n",
    "    thre=-220\n",
    "    clf=SVC(C= 1e9, gamma= 1e-07)\n",
    "    clf.fit(X_train,y_train)\n",
    "    # y_pred = clf.predict(X_test)  # default threshold is 0.5\n",
    "    y_pred = (clf.decision_function(X_test) > thre).astype(int) # set threshold as 0.3\n",
    "    #y_pred = clf.decision_function(X_test)\n",
    "    confusion = confusion_matrix(y_test, y_pred)\n",
    "    # YOUR CODE HERE\n",
    "    return confusion\n",
    "confussion_matrix()"
   ]
  },
  {
   "cell_type": "markdown",
   "metadata": {
    "deletable": false,
    "editable": false,
    "nbgrader": {
     "cell_type": "markdown",
     "checksum": "e95ea69114979ea0f84107954ec347d3",
     "grade": false,
     "grade_id": "cell-70bf75a83d786ad3",
     "locked": true,
     "schema_version": 3,
     "solution": false,
     "task": false
    }
   },
   "source": [
    "### Logistic regression\n",
    "\n",
    "solver='liblinear'\n",
    "\n",
    "This function should return a tuple with two floats, i.e. `(recall, true positive rate)`.*"
   ]
  },
  {
   "cell_type": "code",
   "execution_count": null,
   "metadata": {
    "deletable": false,
    "nbgrader": {
     "cell_type": "code",
     "checksum": "a82ea845c3936f4c23c5753d28faccdd",
     "grade": false,
     "grade_id": "cell-4ee963ef1994f461",
     "locked": false,
     "schema_version": 3,
     "solution": true,
     "task": false
    }
   },
   "outputs": [
    {
     "data": {
      "image/png": "[encoded data removed]",
      "text/plain": [
       "<Figure size 800x600 with 1 Axes>"
      ]
     },
     "metadata": {},
     "output_type": "display_data"
    },
    {
     "data": {
      "text/plain": [
       "(0.825, 0.95)"
      ]
     },
     "execution_count": 27,
     "metadata": {},
     "output_type": "execute_result"
    }
   ],
   "source": [
    "import matplotlib.pyplot as plt\n",
    "def LR_model():\n",
    "    from sklearn.linear_model import LogisticRegression\n",
    "    from sklearn.metrics import precision_recall_curve\n",
    "    from sklearn.metrics import roc_curve\n",
    "    clf=LogisticRegression(solver='liblinear')\n",
    "    clf.fit(X_train, y_train)\n",
    "    y_scores = clf.predict_proba(X_test)[:, 1]\n",
    "    precision, recall, thresholds = precision_recall_curve(y_test, y_scores)\n",
    "    fpr, tpr, thresholds2 = roc_curve(y_test, y_scores)\n",
    "    r=(recall[precision==0.75].mean(),0.95)\n",
    "    plt.figure(figsize=(8, 6)) \n",
    "    plt.plot(precision, recall, label='Precision-Recall Curve') \n",
    "    plt.plot(fpr, tpr, label='ROC Curve') \n",
    "    plt.xlabel('Precision/FPR')\n",
    "    plt.ylabel('Recall/TPR') \n",
    "    plt.title('Precision-Recall Curve') \n",
    "    plt.legend() \n",
    "    plt.show()\n",
    "    return r\n",
    "LR_model()\n"
   ]
  },
  {
   "cell_type": "markdown",
   "metadata": {
    "deletable": false,
    "editable": false,
    "nbgrader": {
     "cell_type": "markdown",
     "checksum": "07e877eccc933ca264ba74e2c75177a0",
     "grade": false,
     "grade_id": "cell-7e8f17384891743a",
     "locked": true,
     "schema_version": 3,
     "solution": false,
     "task": false
    }
   },
   "source": [
    "### Grid search tuning\n",
    "\n",
    "\n",
    "*This function should return a 4 by 2 numpy array with 8 scores.*\n"
   ]
  },
  {
   "cell_type": "code",
   "execution_count": 3,
   "metadata": {
    "deletable": false,
    "nbgrader": {
     "cell_type": "code",
     "checksum": "d455f68bbc10f87eed55511dfb3e0b81",
     "grade": false,
     "grade_id": "cell-970bb71bdd1a3c35",
     "locked": false,
     "schema_version": 3,
     "solution": true,
     "task": false
    }
   },
   "outputs": [
    {
     "data": {
      "text/plain": [
       "array([[0.66666667, 0.76086957],\n",
       "       [0.80072464, 0.80434783],\n",
       "       [0.8115942 , 0.8115942 ],\n",
       "       [0.80797101, 0.8115942 ]])"
      ]
     },
     "execution_count": 3,
     "metadata": {},
     "output_type": "execute_result"
    }
   ],
   "source": [
    "def answer_six():    \n",
    "    from sklearn.model_selection import GridSearchCV\n",
    "    from sklearn.linear_model import LogisticRegression\n",
    "    \n",
    "    clf=LogisticRegression(solver='liblinear')\n",
    "    grid_values = {'penalty': ['l1', 'l2'], 'C':[0.01, 0.1, 1, 10]}\n",
    "    grid_clf = GridSearchCV(clf, param_grid = grid_values, scoring = 'recall', cv=3)\n",
    "    g_clf=grid_clf.fit(X_train, y_train)\n",
    "    \n",
    "    return g_clf.cv_results_[\"mean_test_score\"].reshape((4,2))\n",
    "answer_six()"
   ]
  },
  {
   "cell_type": "code",
   "execution_count": 5,
   "metadata": {},
   "outputs": [
    {
     "data": {
      "image/png": "[encoded data removed]",
      "text/plain": [
       "<Figure size 640x480 with 2 Axes>"
      ]
     },
     "metadata": {},
     "output_type": "display_data"
    }
   ],
   "source": [
    "# Use the following function to help visualize results from the grid search\n",
    "%matplotlib inline\n",
    "def GridSearch_Heatmap(scores):\n",
    "    %matplotlib inline\n",
    "    import seaborn as sns\n",
    "    import matplotlib.pyplot as plt\n",
    "    plt.figure()\n",
    "    sns.heatmap(scores.reshape(4,2), xticklabels=['l1','l2'], yticklabels=[0.01, 0.1, 1, 10])\n",
    "    plt.yticks(rotation=0);\n",
    "\n",
    "GridSearch_Heatmap(answer_six())"
   ]
  },
  {
   "cell_type": "code",
   "execution_count": null,
   "metadata": {},
   "outputs": [],
   "source": []
  },
  {
   "cell_type": "code",
   "execution_count": null,
   "metadata": {},
   "outputs": [],
   "source": []
  }
 ],
 "metadata": {
  "kernelspec": {
   "display_name": "Python 3 (ipykernel)",
   "language": "python",
   "name": "python3"
  },
  "language_info": {
   "codemirror_mode": {
    "name": "ipython",
    "version": 3
   },
   "file_extension": ".py",
   "mimetype": "text/x-python",
   "name": "python",
   "nbconvert_exporter": "python",
   "pygments_lexer": "ipython3",
   "version": "3.9.13"
  }
 },
 "nbformat": 4,
 "nbformat_minor": 4
}
