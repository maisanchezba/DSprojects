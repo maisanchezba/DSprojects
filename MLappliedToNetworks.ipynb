{
 "cells": [
  {
   "cell_type": "markdown",
   "metadata": {
    "deletable": false,
    "editable": false,
    "nbgrader": {
     "cell_type": "markdown",
     "checksum": "e54c4493f1c9d4aa91fe9712e827ee6b",
     "grade": false,
     "grade_id": "cell-61a01867bc1feb33",
     "locked": true,
     "schema_version": 3,
     "solution": false,
     "task": false
    }
   },
   "source": [
    "# Analysing predictions on a network with its metrics and node atributes"
   ]
  },
  {
   "cell_type": "code",
   "execution_count": 2,
   "metadata": {
    "deletable": false,
    "editable": false,
    "nbgrader": {
     "cell_type": "code",
     "checksum": "8555f884d1a86e615633814fe0640fa9",
     "grade": false,
     "grade_id": "cell-04d6d26d762f743a",
     "locked": true,
     "schema_version": 3,
     "solution": false,
     "task": false
    }
   },
   "outputs": [],
   "source": [
    "import networkx as nx\n",
    "import pandas as pd\n",
    "import numpy as np\n",
    "import pickle"
   ]
  },
  {
   "cell_type": "markdown",
   "metadata": {
    "deletable": false,
    "editable": false,
    "nbgrader": {
     "cell_type": "markdown",
     "checksum": "24751ee5132e6ae445b370a534718f46",
     "grade": false,
     "grade_id": "cell-a8b02acc0a67f5cb",
     "locked": true,
     "schema_version": 3,
     "solution": false,
     "task": false
    }
   },
   "source": [
    "---\n",
    "\n",
    "## Data: Company Emails\n",
    "\n",
    "Data is a company's email network where each node corresponds to a person at the company, and each edge indicates that at least one email has been sent between two people.\n",
    "\n",
    "The network also contains the node attributes Department and ManagmentSalary."
   ]
  },
  {
   "cell_type": "code",
   "execution_count": 3,
   "metadata": {
    "deletable": false,
    "editable": false,
    "nbgrader": {
     "cell_type": "code",
     "checksum": "e722c34a6345262e25f7b6f3aa9ea24f",
     "grade": false,
     "grade_id": "cell-8318572a20542eb0",
     "locked": true,
     "schema_version": 3,
     "solution": false,
     "task": false
    }
   },
   "outputs": [
    {
     "name": "stdout",
     "output_type": "stream",
     "text": [
      "Graph with 1005 nodes and 16706 edges\n"
     ]
    }
   ],
   "source": [
    "G = pickle.load(open('assets/email_prediction_NEW.txt', 'rb'))\n",
    "\n",
    "print(f\"Graph with {len(nx.nodes(G))} nodes and {len(nx.edges(G))} edges\")"
   ]
  },
  {
   "cell_type": "markdown",
   "metadata": {
    "deletable": false,
    "editable": false,
    "nbgrader": {
     "cell_type": "markdown",
     "checksum": "fce5fb3b46c870ef3a396d6272fb5741",
     "grade": false,
     "grade_id": "cell-e87009c4bfab6968",
     "locked": true,
     "schema_version": 3,
     "solution": false,
     "task": false
    }
   },
   "source": [
    "### Salary Prediction\n",
    "\n",
    "The next code predicts salary of employees wtih nan data.\n",
    "\n",
    "\n",
    "Score used will be AUC"
   ]
  },
  {
   "cell_type": "code",
   "execution_count": 15,
   "metadata": {
    "deletable": false,
    "editable": false,
    "nbgrader": {
     "cell_type": "code",
     "checksum": "d02e4f542d1aa318bbf2d31a4190f873",
     "grade": false,
     "grade_id": "cell-5980e664930b216a",
     "locked": true,
     "schema_version": 3,
     "solution": false,
     "task": false
    }
   },
   "outputs": [
    {
     "data": {
      "text/plain": [
       "[(0, {'Department': 1, 'ManagementSalary': 0.0}),\n",
       " (1, {'Department': 1, 'ManagementSalary': nan}),\n",
       " (581, {'Department': 3, 'ManagementSalary': 0.0}),\n",
       " (6, {'Department': 25, 'ManagementSalary': 1.0}),\n",
       " (65, {'Department': 4, 'ManagementSalary': nan})]"
      ]
     },
     "execution_count": 15,
     "metadata": {},
     "output_type": "execute_result"
    }
   ],
   "source": [
    "list(G.nodes(data=True))[:5] # print the first 5 nodes"
   ]
  },
  {
   "cell_type": "code",
   "execution_count": 95,
   "metadata": {
    "deletable": false,
    "nbgrader": {
     "cell_type": "code",
     "checksum": "7923c33da469542ff6e642a304dce099",
     "grade": false,
     "grade_id": "cell-c1ae7e7278c56f0c",
     "locked": false,
     "schema_version": 3,
     "solution": true,
     "task": false
    }
   },
   "outputs": [
    {
     "data": {
      "text/plain": [
       "1      0.01\n",
       "65     0.73\n",
       "18     0.15\n",
       "215    0.45\n",
       "283    1.00\n",
       "       ... \n",
       "691    0.00\n",
       "788    0.13\n",
       "944    0.00\n",
       "798    0.00\n",
       "808    0.00\n",
       "Name: ManagementSalary, Length: 252, dtype: float64"
      ]
     },
     "execution_count": 95,
     "metadata": {},
     "output_type": "execute_result"
    }
   ],
   "source": [
    "\n",
    "\n",
    "def salary_predictions():\n",
    "    from sklearn.preprocessing import StandardScaler\n",
    "    from sklearn.ensemble import RandomForestClassifier\n",
    "    from sklearn.model_selection import train_test_split\n",
    "    from sklearn.metrics import roc_auc_score\n",
    "    from sklearn.model_selection import GridSearchCV\n",
    "\n",
    "# Define the parameter grid\n",
    "    param_grid = {\n",
    "    'max_depth': [3, 5, 10, None],\n",
    "    'min_samples_split': [2, 5, 10],\n",
    "    'min_samples_leaf': [1, 2, 5],\n",
    "    'max_features': ['sqrt', 'log2', None]\n",
    "}\n",
    "    df = pd.DataFrame(index=G.nodes)\n",
    "    df['Department'] = pd.Series(nx.get_node_attributes(G, 'Department'))\n",
    "    df['ManagementSalary'] = pd.Series(nx.get_node_attributes(G, 'ManagementSalary'))\n",
    "    scaler = StandardScaler()\n",
    "    df[\"DepartmentNorm\"] = scaler.fit_transform(df['Department'].values.reshape(-1, 1)).flatten()\n",
    "    df['degree'] =pd.Series(nx.degree_centrality(G))\n",
    "    df['closeness'] =pd.Series(nx.closeness_centrality(G))\n",
    "    \n",
    "    # YOUR CODE HERE\n",
    "    df_nan=df[df[\"ManagementSalary\"].isnull()]\n",
    "    df_train=df[df[\"ManagementSalary\"].notnull()]\n",
    "    #engagement_model(df_train, \"DepartmentNorm\", \"ManagementSalary\")\n",
    "    X=np.stack((df_train[\"DepartmentNorm\"].values, df_train['degree'].values, df_train[\"closeness\"].values), axis=1)\n",
    "    X_train, X_test, y_train, y_test = train_test_split(X, df_train[\"ManagementSalary\"].values)\n",
    "    #clf = RandomForestClassifier()\n",
    "    clf = RandomForestClassifier().fit(X_train, y_train)\n",
    "    \n",
    "    X_nan=np.stack((df_nan[\"DepartmentNorm\"].values, df_nan['degree'].values, df_nan[\"closeness\"].values), axis=1)\n",
    "    df_nan[\"ManagementSalary\"]=clf.predict_proba(X_nan)[:,1]\n",
    "#     grid_search = GridSearchCV(estimator=clf, param_grid=param_grid, scoring='roc_auc', cv=3)\n",
    "#     grid_search.fit(X, df_train[\"ManagementSalary\"].values)\n",
    "#     #'max_depth': 3, 'max_features': 'log2', 'min_samples_leaf': 5, 'min_samples_split': 2}\n",
    "\n",
    "#     # Best parameters and score\n",
    "#     print(\"Best Parameters:\", grid_search.best_params_)\n",
    "#     print(\"Best Cross-Validated Score:\", grid_search.best_score_)\n",
    "    \n",
    "    return df_nan[\"ManagementSalary\"]#roc_auc_score(y_test, clf.predict_proba(X_test)[:,1])\n",
    "salary_predictions()"
   ]
  },
  {
   "cell_type": "markdown",
   "metadata": {
    "deletable": false,
    "editable": false,
    "nbgrader": {
     "cell_type": "markdown",
     "checksum": "01ee118d34018c23ed12b93790c65e49",
     "grade": false,
     "grade_id": "cell-636bdc6669fbdf2f",
     "locked": true,
     "schema_version": 3,
     "solution": false,
     "task": false
    }
   },
   "source": [
    "###  New Connections Prediction\n",
    "\n",
    "Next code will predict future connections between employees of the network. The future connections information has been loaded into the variable `future_connections`. The index is a tuple indicating a pair of nodes that currently do not have a connection, and the `Future Connection` column indicates if an edge between those two nodes will exist in the future, where a value of 1.0 indicates a future connection."
   ]
  },
  {
   "cell_type": "code",
   "execution_count": 5,
   "metadata": {
    "deletable": false,
    "editable": false,
    "nbgrader": {
     "cell_type": "code",
     "checksum": "6ae78d5616c6a6fba11b22d9bf5c9bac",
     "grade": false,
     "grade_id": "cell-23900b187593a4a6",
     "locked": true,
     "schema_version": 3,
     "solution": false,
     "task": false
    }
   },
   "outputs": [
    {
     "data": {
      "text/html": [
       "<div>\n",
       "<style scoped>\n",
       "    .dataframe tbody tr th:only-of-type {\n",
       "        vertical-align: middle;\n",
       "    }\n",
       "\n",
       "    .dataframe tbody tr th {\n",
       "        vertical-align: top;\n",
       "    }\n",
       "\n",
       "    .dataframe thead th {\n",
       "        text-align: right;\n",
       "    }\n",
       "</style>\n",
       "<table border=\"1\" class=\"dataframe\">\n",
       "  <thead>\n",
       "    <tr style=\"text-align: right;\">\n",
       "      <th></th>\n",
       "      <th>Future Connection</th>\n",
       "    </tr>\n",
       "  </thead>\n",
       "  <tbody>\n",
       "    <tr>\n",
       "      <th>(6, 840)</th>\n",
       "      <td>0.0</td>\n",
       "    </tr>\n",
       "    <tr>\n",
       "      <th>(4, 197)</th>\n",
       "      <td>0.0</td>\n",
       "    </tr>\n",
       "    <tr>\n",
       "      <th>(620, 979)</th>\n",
       "      <td>0.0</td>\n",
       "    </tr>\n",
       "    <tr>\n",
       "      <th>(519, 872)</th>\n",
       "      <td>0.0</td>\n",
       "    </tr>\n",
       "    <tr>\n",
       "      <th>(382, 423)</th>\n",
       "      <td>0.0</td>\n",
       "    </tr>\n",
       "    <tr>\n",
       "      <th>(97, 226)</th>\n",
       "      <td>1.0</td>\n",
       "    </tr>\n",
       "    <tr>\n",
       "      <th>(349, 905)</th>\n",
       "      <td>0.0</td>\n",
       "    </tr>\n",
       "    <tr>\n",
       "      <th>(429, 860)</th>\n",
       "      <td>0.0</td>\n",
       "    </tr>\n",
       "    <tr>\n",
       "      <th>(309, 989)</th>\n",
       "      <td>0.0</td>\n",
       "    </tr>\n",
       "    <tr>\n",
       "      <th>(468, 880)</th>\n",
       "      <td>0.0</td>\n",
       "    </tr>\n",
       "  </tbody>\n",
       "</table>\n",
       "</div>"
      ],
      "text/plain": [
       "            Future Connection\n",
       "(6, 840)                  0.0\n",
       "(4, 197)                  0.0\n",
       "(620, 979)                0.0\n",
       "(519, 872)                0.0\n",
       "(382, 423)                0.0\n",
       "(97, 226)                 1.0\n",
       "(349, 905)                0.0\n",
       "(429, 860)                0.0\n",
       "(309, 989)                0.0\n",
       "(468, 880)                0.0"
      ]
     },
     "execution_count": 5,
     "metadata": {},
     "output_type": "execute_result"
    }
   ],
   "source": [
    "future_connections = pd.read_csv('assets/Future_Connections.csv', index_col=0, converters={0: eval})\n",
    "future_connections.head(10)"
   ]
  },
  {
   "cell_type": "code",
   "execution_count": 43,
   "metadata": {
    "deletable": false,
    "nbgrader": {
     "cell_type": "code",
     "checksum": "aa635313ab21384aefd0e005c28f8a9d",
     "grade": false,
     "grade_id": "cell-63e0f775d43cc2e4",
     "locked": false,
     "schema_version": 3,
     "solution": true,
     "task": false
    }
   },
   "outputs": [
    {
     "data": {
      "text/plain": [
       "(107, 348)    0.026732\n",
       "(542, 751)    0.012729\n",
       "(20, 426)     0.610093\n",
       "(50, 989)     0.012729\n",
       "(942, 986)    0.012729\n",
       "                ...   \n",
       "(165, 923)    0.012729\n",
       "(673, 755)    0.012729\n",
       "(939, 940)    0.012729\n",
       "(555, 905)    0.012729\n",
       "(75, 101)     0.016281\n",
       "Name: Future Connection, Length: 122112, dtype: float64"
      ]
     },
     "execution_count": 43,
     "metadata": {},
     "output_type": "execute_result"
    }
   ],
   "source": [
    "def stack(df, features):\n",
    "    return tuple(df[feature].values for feature in features)\n",
    "def new_connections_predictions():\n",
    "    from sklearn.preprocessing import StandardScaler, LabelEncoder\n",
    "    from sklearn.ensemble import RandomForestClassifier\n",
    "    from sklearn.model_selection import train_test_split\n",
    "    from sklearn.metrics import roc_auc_score\n",
    "    df=future_connections\n",
    "    #df[\"common_n\"]=\n",
    "    \n",
    "    hopcroft=nx.ra_index_soundarajan_hopcroft(G, community=\"Department\")\n",
    "    #hopcroft=nx.resource_allocation_index(G)\n",
    "    arr_hopcroft=np.array(list(hopcroft))\n",
    "    idx=[(int(a[0]),int(a[1])) for a in arr_hopcroft]\n",
    "    hop=arr_hopcroft[:,2]\n",
    "    df[\"hopcroft\"]=pd.Series(hop, index=idx)\n",
    "    \n",
    "    #close_n=[(e[0],e[1],len(list(nx.common_neighbors(G, e[0], e[1])))) for e in nx.non_edges(G)]\n",
    "    close_n=list(nx.cn_soundarajan_hopcroft(G, community=\"Department\"))\n",
    "    arr_cn=np.array(close_n)\n",
    "    idx=[(int(a[0]),int(a[1])) for a in arr_cn]\n",
    "    cn=arr_cn[:,2]\n",
    "    df[\"cn\"]=pd.Series(cn, index=idx)\n",
    "    \n",
    "    fc=\"Future Connection\"\n",
    "    df_nan=df[df[fc].isnull()]\n",
    "    df_train=df[df[fc].notnull()]\n",
    "    # YOUR CODE HERE\n",
    "    X=np.stack(stack(df_train, [\"hopcroft\", \"cn\"]), axis=1)\n",
    "    y=df_train[\"Future Connection\"].values\n",
    "    \n",
    "    X_train, X_test, y_train, y_test = train_test_split(X, y)\n",
    "    #clf = RandomForestClassifier()\n",
    "    clf = RandomForestClassifier().fit(X_train, y_train)\n",
    "    \n",
    "    X_nan=np.stack(stack(df_nan, [\"hopcroft\", \"cn\"]), axis=1)\n",
    "    df_nan[\"Future Connection\"]=clf.predict_proba(X_nan)[:,1]\n",
    "    \n",
    "    return df_nan[\"Future Connection\"]#roc_auc_score(y_test, clf.predict_proba(X_test)[:,1])\n",
    "new_connections_predictions()"
   ]
  },
  {
   "cell_type": "code",
   "execution_count": 44,
   "metadata": {
    "deletable": false,
    "editable": false,
    "nbgrader": {
     "cell_type": "code",
     "checksum": "1551f972fbe01646fda6b8679026970b",
     "grade": true,
     "grade_id": "cell-979b4a17d794f3d0",
     "locked": true,
     "points": 1,
     "schema_version": 3,
     "solution": false,
     "task": false
    }
   },
   "outputs": [],
   "source": [
    "ans_prob_preds = new_connections_predictions()\n",
    "assert type(ans_prob_preds) == pd.core.series.Series, \"You must return a Pandas series\"\n",
    "assert len(ans_prob_preds) == 122112, \"The series must be of length 122112\"\n"
   ]
  }
 ],
 "metadata": {
  "kernelspec": {
   "display_name": "Python 3 (ipykernel)",
   "language": "python",
   "name": "python3"
  },
  "language_info": {
   "codemirror_mode": {
    "name": "ipython",
    "version": 3
   },
   "file_extension": ".py",
   "mimetype": "text/x-python",
   "name": "python",
   "nbconvert_exporter": "python",
   "pygments_lexer": "ipython3",
   "version": "3.9.13"
  }
 },
 "nbformat": 4,
 "nbformat_minor": 4
}
